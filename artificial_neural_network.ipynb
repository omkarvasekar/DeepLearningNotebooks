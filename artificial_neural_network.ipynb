{
 "cells": [
  {
   "cell_type": "markdown",
   "metadata": {
    "colab_type": "text",
    "id": "lP6JLo1tGNBg"
   },
   "source": [
    "# Artificial Neural Network"
   ]
  },
  {
   "cell_type": "markdown",
   "metadata": {
    "colab_type": "text",
    "id": "gWZyYmS_UE_L"
   },
   "source": [
    "### Importing the libraries"
   ]
  },
  {
   "cell_type": "code",
   "execution_count": 1,
   "metadata": {
    "colab": {},
    "colab_type": "code",
    "id": "MxkJoQBkUIHC"
   },
   "outputs": [
    {
     "name": "stdout",
     "output_type": "stream",
     "text": [
      "WARNING:tensorflow:From C:\\Users\\vasek\\anaconda3\\Lib\\site-packages\\keras\\src\\losses.py:2976: The name tf.losses.sparse_softmax_cross_entropy is deprecated. Please use tf.compat.v1.losses.sparse_softmax_cross_entropy instead.\n",
      "\n"
     ]
    }
   ],
   "source": [
    "import numpy as np\n",
    "import pandas as pd\n",
    "import tensorflow as tf"
   ]
  },
  {
   "cell_type": "code",
   "execution_count": 2,
   "metadata": {
    "colab": {
     "base_uri": "https://localhost:8080/",
     "height": 34
    },
    "colab_type": "code",
    "id": "ZaTwK7ojXr2F",
    "outputId": "0b27a96d-d11a-43e8-ab4b-87c1f01896fe"
   },
   "outputs": [
    {
     "data": {
      "text/plain": [
       "'2.15.0'"
      ]
     },
     "execution_count": 2,
     "metadata": {},
     "output_type": "execute_result"
    }
   ],
   "source": [
    "tf.__version__"
   ]
  },
  {
   "cell_type": "markdown",
   "metadata": {
    "colab_type": "text",
    "id": "1E0Q3aoKUCRX"
   },
   "source": [
    "## Part 1 - Data Preprocessing"
   ]
  },
  {
   "cell_type": "markdown",
   "metadata": {
    "colab_type": "text",
    "id": "cKWAkFVGUU0Z"
   },
   "source": [
    "### Importing the dataset"
   ]
  },
  {
   "cell_type": "code",
   "execution_count": 3,
   "metadata": {
    "colab": {},
    "colab_type": "code",
    "id": "MXUkhkMfU4wq"
   },
   "outputs": [],
   "source": [
    "dataset = pd.read_csv('Churn_Modelling.csv')\n",
    "X = dataset.iloc[:, 3:-1].values\n",
    "y = dataset.iloc[:, -1].values"
   ]
  },
  {
   "cell_type": "code",
   "execution_count": 4,
   "metadata": {
    "colab": {
     "base_uri": "https://localhost:8080/",
     "height": 137
    },
    "colab_type": "code",
    "id": "VYP9cQTWbzuI",
    "outputId": "797e7a64-9bac-436a-8c9c-94437e5e7587"
   },
   "outputs": [
    {
     "name": "stdout",
     "output_type": "stream",
     "text": [
      "[[619 'France' 'Female' ... 1 1 101348.88]\n",
      " [608 'Spain' 'Female' ... 0 1 112542.58]\n",
      " [502 'France' 'Female' ... 1 0 113931.57]\n",
      " ...\n",
      " [709 'France' 'Female' ... 0 1 42085.58]\n",
      " [772 'Germany' 'Male' ... 1 0 92888.52]\n",
      " [792 'France' 'Female' ... 1 0 38190.78]]\n"
     ]
    }
   ],
   "source": [
    "print(X)"
   ]
  },
  {
   "cell_type": "code",
   "execution_count": 5,
   "metadata": {
    "colab": {
     "base_uri": "https://localhost:8080/",
     "height": 34
    },
    "colab_type": "code",
    "id": "38vKGE6Nb2RR",
    "outputId": "a815e42a-e0dd-4cb5-ab97-b17ead98fbc3"
   },
   "outputs": [
    {
     "name": "stdout",
     "output_type": "stream",
     "text": [
      "[1 0 1 ... 1 1 0]\n"
     ]
    }
   ],
   "source": [
    "print(y)"
   ]
  },
  {
   "cell_type": "markdown",
   "metadata": {
    "colab_type": "text",
    "id": "N6bQ0UgSU-NJ"
   },
   "source": [
    "### Encoding categorical data"
   ]
  },
  {
   "cell_type": "markdown",
   "metadata": {
    "colab_type": "text",
    "id": "le5MJreAbW52"
   },
   "source": [
    "Label Encoding the \"Gender\" column"
   ]
  },
  {
   "cell_type": "code",
   "execution_count": 6,
   "metadata": {
    "colab": {},
    "colab_type": "code",
    "id": "PxVKWXxLbczC"
   },
   "outputs": [],
   "source": [
    "from sklearn.preprocessing import LabelEncoder\n",
    "le = LabelEncoder()\n",
    "X[:, 2] = le.fit_transform(X[:, 2])"
   ]
  },
  {
   "cell_type": "code",
   "execution_count": 7,
   "metadata": {
    "colab": {
     "base_uri": "https://localhost:8080/",
     "height": 137
    },
    "colab_type": "code",
    "id": "-M1KboxFb6OO",
    "outputId": "e2b8c7e8-0cbc-4cdf-f4eb-7f0853a00b88"
   },
   "outputs": [
    {
     "name": "stdout",
     "output_type": "stream",
     "text": [
      "[[619 'France' 0 ... 1 1 101348.88]\n",
      " [608 'Spain' 0 ... 0 1 112542.58]\n",
      " [502 'France' 0 ... 1 0 113931.57]\n",
      " ...\n",
      " [709 'France' 0 ... 0 1 42085.58]\n",
      " [772 'Germany' 1 ... 1 0 92888.52]\n",
      " [792 'France' 0 ... 1 0 38190.78]]\n"
     ]
    }
   ],
   "source": [
    "print(X)"
   ]
  },
  {
   "cell_type": "markdown",
   "metadata": {
    "colab_type": "text",
    "id": "CUxGZezpbMcb"
   },
   "source": [
    "One Hot Encoding the \"Geography\" column"
   ]
  },
  {
   "cell_type": "code",
   "execution_count": 8,
   "metadata": {
    "colab": {},
    "colab_type": "code",
    "id": "AMXC8-KMVirw"
   },
   "outputs": [],
   "source": [
    "from sklearn.compose import ColumnTransformer\n",
    "from sklearn.preprocessing import OneHotEncoder\n",
    "ct = ColumnTransformer(transformers=[('encoder', OneHotEncoder(), [1])], remainder='passthrough')\n",
    "X = np.array(ct.fit_transform(X))"
   ]
  },
  {
   "cell_type": "code",
   "execution_count": 21,
   "metadata": {
    "colab": {
     "base_uri": "https://localhost:8080/",
     "height": 137
    },
    "colab_type": "code",
    "id": "ZcxwEon-b8nV",
    "outputId": "23a98af4-5e33-4b26-c27b-f06e3c5d2baf"
   },
   "outputs": [
    {
     "name": "stdout",
     "output_type": "stream",
     "text": [
      "[[1.0 0.0 0.0 ... 1 1 101348.88]\n",
      " [0.0 0.0 1.0 ... 0 1 112542.58]\n",
      " [1.0 0.0 0.0 ... 1 0 113931.57]\n",
      " ...\n",
      " [1.0 0.0 0.0 ... 0 1 42085.58]\n",
      " [0.0 1.0 0.0 ... 1 0 92888.52]\n",
      " [1.0 0.0 0.0 ... 1 0 38190.78]]\n"
     ]
    },
    {
     "ename": "AttributeError",
     "evalue": "'numpy.ndarray' object has no attribute 'head'",
     "output_type": "error",
     "traceback": [
      "\u001b[1;31m---------------------------------------------------------------------------\u001b[0m",
      "\u001b[1;31mAttributeError\u001b[0m                            Traceback (most recent call last)",
      "Cell \u001b[1;32mIn[21], line 2\u001b[0m\n\u001b[0;32m      1\u001b[0m \u001b[38;5;28mprint\u001b[39m(X)\n\u001b[1;32m----> 2\u001b[0m X\u001b[38;5;241m.\u001b[39mhead()\n",
      "\u001b[1;31mAttributeError\u001b[0m: 'numpy.ndarray' object has no attribute 'head'"
     ]
    }
   ],
   "source": [
    "print(X)\n"
   ]
  },
  {
   "cell_type": "markdown",
   "metadata": {
    "colab_type": "text",
    "id": "vHol938cW8zd"
   },
   "source": [
    "### Splitting the dataset into the Training set and Test set"
   ]
  },
  {
   "cell_type": "code",
   "execution_count": 10,
   "metadata": {
    "colab": {},
    "colab_type": "code",
    "id": "Z-TDt0Y_XEfc"
   },
   "outputs": [],
   "source": [
    "from sklearn.model_selection import train_test_split\n",
    "X_train, X_test, y_train, y_test = train_test_split(X, y, test_size = 0.2, random_state = 0)"
   ]
  },
  {
   "cell_type": "markdown",
   "metadata": {
    "colab_type": "text",
    "id": "RE_FcHyfV3TQ"
   },
   "source": [
    "### Feature Scaling"
   ]
  },
  {
   "cell_type": "code",
   "execution_count": 11,
   "metadata": {
    "colab": {},
    "colab_type": "code",
    "id": "ViCrE00rV8Sk"
   },
   "outputs": [],
   "source": [
    "from sklearn.preprocessing import StandardScaler\n",
    "sc = StandardScaler()\n",
    "X_train = sc.fit_transform(X_train)\n",
    "X_test = sc.transform(X_test)"
   ]
  },
  {
   "cell_type": "markdown",
   "metadata": {
    "colab_type": "text",
    "id": "-zfEzkRVXIwF"
   },
   "source": [
    "## Part 2 - Building the ANN"
   ]
  },
  {
   "cell_type": "markdown",
   "metadata": {
    "colab_type": "text",
    "id": "KvdeScabXtlB"
   },
   "source": [
    "### Initializing the ANN"
   ]
  },
  {
   "cell_type": "code",
   "execution_count": 107,
   "metadata": {
    "colab": {},
    "colab_type": "code",
    "id": "3dtrScHxXQox"
   },
   "outputs": [],
   "source": [
    "ann = tf.keras.models.Sequential()"
   ]
  },
  {
   "cell_type": "markdown",
   "metadata": {
    "colab_type": "text",
    "id": "rP6urV6SX7kS"
   },
   "source": [
    "### Adding the input layer and the first hidden layer"
   ]
  },
  {
   "cell_type": "code",
   "execution_count": 108,
   "metadata": {
    "colab": {},
    "colab_type": "code",
    "id": "bppGycBXYCQr"
   },
   "outputs": [],
   "source": [
    "ann.add(tf.keras.layers.Dense(units=7, activation='relu'))"
   ]
  },
  {
   "cell_type": "markdown",
   "metadata": {
    "colab_type": "text",
    "id": "BELWAc_8YJze"
   },
   "source": [
    "### Adding the second hidden layer"
   ]
  },
  {
   "cell_type": "code",
   "execution_count": 109,
   "metadata": {
    "colab": {},
    "colab_type": "code",
    "id": "JneR0u0sYRTd"
   },
   "outputs": [],
   "source": [
    "ann.add(tf.keras.layers.Dense(units=8, activation='relu'))"
   ]
  },
  {
   "cell_type": "markdown",
   "metadata": {
    "colab_type": "text",
    "id": "OyNEe6RXYcU4"
   },
   "source": [
    "### Adding the output layer"
   ]
  },
  {
   "cell_type": "code",
   "execution_count": 110,
   "metadata": {
    "colab": {},
    "colab_type": "code",
    "id": "Cn3x41RBYfvY"
   },
   "outputs": [],
   "source": [
    "ann.add(tf.keras.layers.Dense(units=1, activation='sigmoid'))"
   ]
  },
  {
   "cell_type": "markdown",
   "metadata": {
    "colab_type": "text",
    "id": "JT4u2S1_Y4WG"
   },
   "source": [
    "## Part 3 - Training the ANN"
   ]
  },
  {
   "cell_type": "markdown",
   "metadata": {
    "colab_type": "text",
    "id": "8GWlJChhY_ZI"
   },
   "source": [
    "### Compiling the ANN"
   ]
  },
  {
   "cell_type": "code",
   "execution_count": 111,
   "metadata": {
    "colab": {},
    "colab_type": "code",
    "id": "fG3RrwDXZEaS"
   },
   "outputs": [],
   "source": [
    "ann.compile(optimizer = 'adam', loss = 'binary_crossentropy', metrics = ['accuracy'])"
   ]
  },
  {
   "cell_type": "markdown",
   "metadata": {
    "colab_type": "text",
    "id": "0QR_G5u7ZLSM"
   },
   "source": [
    "### Training the ANN on the Training set"
   ]
  },
  {
   "cell_type": "code",
   "execution_count": 112,
   "metadata": {
    "colab": {
     "base_uri": "https://localhost:8080/",
     "height": 1000
    },
    "colab_type": "code",
    "id": "nHZ-LKv_ZRb3",
    "outputId": "718cc4b0-b5aa-40f0-9b20-d3d31730a531"
   },
   "outputs": [
    {
     "name": "stdout",
     "output_type": "stream",
     "text": [
      "Epoch 1/110\n",
      "250/250 [==============================] - 1s 923us/step - loss: 0.5332 - accuracy: 0.7779\n",
      "Epoch 2/110\n",
      "250/250 [==============================] - 0s 896us/step - loss: 0.4364 - accuracy: 0.8169\n",
      "Epoch 3/110\n",
      "250/250 [==============================] - 0s 857us/step - loss: 0.4028 - accuracy: 0.8292\n",
      "Epoch 4/110\n",
      "250/250 [==============================] - 0s 931us/step - loss: 0.3844 - accuracy: 0.8380\n",
      "Epoch 5/110\n",
      "250/250 [==============================] - 0s 837us/step - loss: 0.3744 - accuracy: 0.8422\n",
      "Epoch 6/110\n",
      "250/250 [==============================] - 0s 930us/step - loss: 0.3673 - accuracy: 0.8453\n",
      "Epoch 7/110\n",
      "250/250 [==============================] - 0s 1ms/step - loss: 0.3640 - accuracy: 0.8494\n",
      "Epoch 8/110\n",
      "250/250 [==============================] - 0s 872us/step - loss: 0.3603 - accuracy: 0.8486\n",
      "Epoch 9/110\n",
      "250/250 [==============================] - 0s 842us/step - loss: 0.3578 - accuracy: 0.8509\n",
      "Epoch 10/110\n",
      "250/250 [==============================] - 0s 845us/step - loss: 0.3560 - accuracy: 0.8522\n",
      "Epoch 11/110\n",
      "250/250 [==============================] - 0s 879us/step - loss: 0.3541 - accuracy: 0.8544\n",
      "Epoch 12/110\n",
      "250/250 [==============================] - 0s 959us/step - loss: 0.3527 - accuracy: 0.8537\n",
      "Epoch 13/110\n",
      "250/250 [==============================] - 0s 911us/step - loss: 0.3512 - accuracy: 0.8540\n",
      "Epoch 14/110\n",
      "250/250 [==============================] - 0s 856us/step - loss: 0.3499 - accuracy: 0.8529\n",
      "Epoch 15/110\n",
      "250/250 [==============================] - 0s 984us/step - loss: 0.3487 - accuracy: 0.8558\n",
      "Epoch 16/110\n",
      "250/250 [==============================] - 0s 999us/step - loss: 0.3474 - accuracy: 0.8543\n",
      "Epoch 17/110\n",
      "250/250 [==============================] - 0s 885us/step - loss: 0.3467 - accuracy: 0.8550\n",
      "Epoch 18/110\n",
      "250/250 [==============================] - 0s 902us/step - loss: 0.3459 - accuracy: 0.8566\n",
      "Epoch 19/110\n",
      "250/250 [==============================] - 0s 869us/step - loss: 0.3448 - accuracy: 0.8572\n",
      "Epoch 20/110\n",
      "250/250 [==============================] - 0s 884us/step - loss: 0.3439 - accuracy: 0.8589\n",
      "Epoch 21/110\n",
      "250/250 [==============================] - 0s 857us/step - loss: 0.3428 - accuracy: 0.8581\n",
      "Epoch 22/110\n",
      "250/250 [==============================] - 0s 925us/step - loss: 0.3426 - accuracy: 0.8562\n",
      "Epoch 23/110\n",
      "250/250 [==============================] - 0s 910us/step - loss: 0.3415 - accuracy: 0.8585\n",
      "Epoch 24/110\n",
      "250/250 [==============================] - 0s 982us/step - loss: 0.3408 - accuracy: 0.8595\n",
      "Epoch 25/110\n",
      "250/250 [==============================] - 0s 986us/step - loss: 0.3403 - accuracy: 0.8586\n",
      "Epoch 26/110\n",
      "250/250 [==============================] - 0s 869us/step - loss: 0.3393 - accuracy: 0.8585\n",
      "Epoch 27/110\n",
      "250/250 [==============================] - 0s 856us/step - loss: 0.3387 - accuracy: 0.8606\n",
      "Epoch 28/110\n",
      "250/250 [==============================] - 0s 1ms/step - loss: 0.3379 - accuracy: 0.8595\n",
      "Epoch 29/110\n",
      "250/250 [==============================] - 0s 1ms/step - loss: 0.3379 - accuracy: 0.8611\n",
      "Epoch 30/110\n",
      "250/250 [==============================] - 0s 1ms/step - loss: 0.3372 - accuracy: 0.8609\n",
      "Epoch 31/110\n",
      "250/250 [==============================] - 0s 1ms/step - loss: 0.3369 - accuracy: 0.8624\n",
      "Epoch 32/110\n",
      "250/250 [==============================] - 0s 1ms/step - loss: 0.3359 - accuracy: 0.8640\n",
      "Epoch 33/110\n",
      "250/250 [==============================] - 0s 1ms/step - loss: 0.3356 - accuracy: 0.8634\n",
      "Epoch 34/110\n",
      "250/250 [==============================] - 0s 1ms/step - loss: 0.3348 - accuracy: 0.8633\n",
      "Epoch 35/110\n",
      "250/250 [==============================] - 0s 950us/step - loss: 0.3352 - accuracy: 0.8633\n",
      "Epoch 36/110\n",
      "250/250 [==============================] - 0s 865us/step - loss: 0.3350 - accuracy: 0.8635\n",
      "Epoch 37/110\n",
      "250/250 [==============================] - 0s 853us/step - loss: 0.3347 - accuracy: 0.8639\n",
      "Epoch 38/110\n",
      "250/250 [==============================] - 0s 881us/step - loss: 0.3343 - accuracy: 0.8631\n",
      "Epoch 39/110\n",
      "250/250 [==============================] - 0s 958us/step - loss: 0.3341 - accuracy: 0.8620\n",
      "Epoch 40/110\n",
      "250/250 [==============================] - 0s 982us/step - loss: 0.3339 - accuracy: 0.8629\n",
      "Epoch 41/110\n",
      "250/250 [==============================] - 0s 1ms/step - loss: 0.3336 - accuracy: 0.8646\n",
      "Epoch 42/110\n",
      "250/250 [==============================] - 0s 893us/step - loss: 0.3334 - accuracy: 0.8627\n",
      "Epoch 43/110\n",
      "250/250 [==============================] - 0s 879us/step - loss: 0.3333 - accuracy: 0.8620\n",
      "Epoch 44/110\n",
      "250/250 [==============================] - 0s 848us/step - loss: 0.3331 - accuracy: 0.8648\n",
      "Epoch 45/110\n",
      "250/250 [==============================] - 0s 853us/step - loss: 0.3328 - accuracy: 0.8627\n",
      "Epoch 46/110\n",
      "250/250 [==============================] - 0s 856us/step - loss: 0.3323 - accuracy: 0.8621\n",
      "Epoch 47/110\n",
      "250/250 [==============================] - 0s 925us/step - loss: 0.3327 - accuracy: 0.8641\n",
      "Epoch 48/110\n",
      "250/250 [==============================] - 0s 1ms/step - loss: 0.3327 - accuracy: 0.8635\n",
      "Epoch 49/110\n",
      "250/250 [==============================] - 0s 1ms/step - loss: 0.3324 - accuracy: 0.8643\n",
      "Epoch 50/110\n",
      "250/250 [==============================] - 0s 1ms/step - loss: 0.3320 - accuracy: 0.8634\n",
      "Epoch 51/110\n",
      "250/250 [==============================] - 0s 1ms/step - loss: 0.3322 - accuracy: 0.8636\n",
      "Epoch 52/110\n",
      "250/250 [==============================] - 0s 871us/step - loss: 0.3317 - accuracy: 0.8634\n",
      "Epoch 53/110\n",
      "250/250 [==============================] - 0s 868us/step - loss: 0.3318 - accuracy: 0.8648\n",
      "Epoch 54/110\n",
      "250/250 [==============================] - 0s 845us/step - loss: 0.3318 - accuracy: 0.8637\n",
      "Epoch 55/110\n",
      "250/250 [==============================] - 0s 912us/step - loss: 0.3313 - accuracy: 0.8631\n",
      "Epoch 56/110\n",
      "250/250 [==============================] - 0s 939us/step - loss: 0.3318 - accuracy: 0.8634\n",
      "Epoch 57/110\n",
      "250/250 [==============================] - 0s 1ms/step - loss: 0.3319 - accuracy: 0.8634\n",
      "Epoch 58/110\n",
      "250/250 [==============================] - 0s 980us/step - loss: 0.3315 - accuracy: 0.8646\n",
      "Epoch 59/110\n",
      "250/250 [==============================] - 0s 933us/step - loss: 0.3309 - accuracy: 0.8637\n",
      "Epoch 60/110\n",
      "250/250 [==============================] - 0s 878us/step - loss: 0.3312 - accuracy: 0.8640\n",
      "Epoch 61/110\n",
      "250/250 [==============================] - 0s 992us/step - loss: 0.3312 - accuracy: 0.8637\n",
      "Epoch 62/110\n",
      "250/250 [==============================] - 0s 922us/step - loss: 0.3316 - accuracy: 0.8635\n",
      "Epoch 63/110\n",
      "250/250 [==============================] - 0s 865us/step - loss: 0.3308 - accuracy: 0.8624\n",
      "Epoch 64/110\n",
      "250/250 [==============================] - 0s 877us/step - loss: 0.3311 - accuracy: 0.8636\n",
      "Epoch 65/110\n",
      "250/250 [==============================] - 0s 867us/step - loss: 0.3311 - accuracy: 0.8635\n",
      "Epoch 66/110\n",
      "250/250 [==============================] - 0s 1ms/step - loss: 0.3313 - accuracy: 0.8646\n",
      "Epoch 67/110\n",
      "250/250 [==============================] - 0s 959us/step - loss: 0.3308 - accuracy: 0.8648\n",
      "Epoch 68/110\n",
      "250/250 [==============================] - 0s 922us/step - loss: 0.3312 - accuracy: 0.8635\n",
      "Epoch 69/110\n",
      "250/250 [==============================] - 0s 883us/step - loss: 0.3309 - accuracy: 0.8641\n",
      "Epoch 70/110\n",
      "250/250 [==============================] - 0s 996us/step - loss: 0.3305 - accuracy: 0.8619\n",
      "Epoch 71/110\n",
      "250/250 [==============================] - 0s 956us/step - loss: 0.3304 - accuracy: 0.8645\n",
      "Epoch 72/110\n",
      "250/250 [==============================] - 0s 949us/step - loss: 0.3306 - accuracy: 0.8645\n",
      "Epoch 73/110\n",
      "250/250 [==============================] - 0s 960us/step - loss: 0.3308 - accuracy: 0.8640\n",
      "Epoch 74/110\n",
      "250/250 [==============================] - 0s 1ms/step - loss: 0.3305 - accuracy: 0.8625\n",
      "Epoch 75/110\n",
      "250/250 [==============================] - 0s 986us/step - loss: 0.3306 - accuracy: 0.8625\n",
      "Epoch 76/110\n",
      "250/250 [==============================] - 0s 843us/step - loss: 0.3301 - accuracy: 0.8629\n",
      "Epoch 77/110\n",
      "250/250 [==============================] - 0s 917us/step - loss: 0.3302 - accuracy: 0.8637\n",
      "Epoch 78/110\n",
      "250/250 [==============================] - 0s 1ms/step - loss: 0.3309 - accuracy: 0.8641\n",
      "Epoch 79/110\n",
      "250/250 [==============================] - 0s 857us/step - loss: 0.3306 - accuracy: 0.8648\n",
      "Epoch 80/110\n"
     ]
    },
    {
     "name": "stdout",
     "output_type": "stream",
     "text": [
      "250/250 [==============================] - 0s 927us/step - loss: 0.3309 - accuracy: 0.8634\n",
      "Epoch 81/110\n",
      "250/250 [==============================] - 0s 841us/step - loss: 0.3302 - accuracy: 0.8639\n",
      "Epoch 82/110\n",
      "250/250 [==============================] - 0s 844us/step - loss: 0.3300 - accuracy: 0.8650\n",
      "Epoch 83/110\n",
      "250/250 [==============================] - 0s 1ms/step - loss: 0.3303 - accuracy: 0.8630\n",
      "Epoch 84/110\n",
      "250/250 [==============================] - 0s 980us/step - loss: 0.3297 - accuracy: 0.8639\n",
      "Epoch 85/110\n",
      "250/250 [==============================] - 0s 845us/step - loss: 0.3300 - accuracy: 0.8636\n",
      "Epoch 86/110\n",
      "250/250 [==============================] - 0s 901us/step - loss: 0.3300 - accuracy: 0.8635\n",
      "Epoch 87/110\n",
      "250/250 [==============================] - 0s 842us/step - loss: 0.3304 - accuracy: 0.8637\n",
      "Epoch 88/110\n",
      "250/250 [==============================] - 0s 839us/step - loss: 0.3301 - accuracy: 0.8630\n",
      "Epoch 89/110\n",
      "250/250 [==============================] - 0s 819us/step - loss: 0.3301 - accuracy: 0.8641\n",
      "Epoch 90/110\n",
      "250/250 [==============================] - 0s 899us/step - loss: 0.3293 - accuracy: 0.8633\n",
      "Epoch 91/110\n",
      "250/250 [==============================] - 0s 889us/step - loss: 0.3299 - accuracy: 0.8637\n",
      "Epoch 92/110\n",
      "250/250 [==============================] - 0s 978us/step - loss: 0.3297 - accuracy: 0.8641\n",
      "Epoch 93/110\n",
      "250/250 [==============================] - 0s 993us/step - loss: 0.3302 - accuracy: 0.8624\n",
      "Epoch 94/110\n",
      "250/250 [==============================] - 0s 921us/step - loss: 0.3298 - accuracy: 0.8637\n",
      "Epoch 95/110\n",
      "250/250 [==============================] - 0s 1ms/step - loss: 0.3294 - accuracy: 0.8646\n",
      "Epoch 96/110\n",
      "250/250 [==============================] - 0s 1ms/step - loss: 0.3297 - accuracy: 0.8640\n",
      "Epoch 97/110\n",
      "250/250 [==============================] - 0s 984us/step - loss: 0.3291 - accuracy: 0.8651\n",
      "Epoch 98/110\n",
      "250/250 [==============================] - 0s 999us/step - loss: 0.3293 - accuracy: 0.8639\n",
      "Epoch 99/110\n",
      "250/250 [==============================] - 0s 993us/step - loss: 0.3295 - accuracy: 0.8643\n",
      "Epoch 100/110\n",
      "250/250 [==============================] - 0s 1ms/step - loss: 0.3293 - accuracy: 0.8635\n",
      "Epoch 101/110\n",
      "250/250 [==============================] - 0s 978us/step - loss: 0.3292 - accuracy: 0.8640\n",
      "Epoch 102/110\n",
      "250/250 [==============================] - 0s 863us/step - loss: 0.3299 - accuracy: 0.8622\n",
      "Epoch 103/110\n",
      "250/250 [==============================] - 0s 882us/step - loss: 0.3295 - accuracy: 0.8639\n",
      "Epoch 104/110\n",
      "250/250 [==============================] - 0s 903us/step - loss: 0.3294 - accuracy: 0.8639\n",
      "Epoch 105/110\n",
      "250/250 [==============================] - 0s 1ms/step - loss: 0.3292 - accuracy: 0.8639\n",
      "Epoch 106/110\n",
      "250/250 [==============================] - 0s 834us/step - loss: 0.3292 - accuracy: 0.8643\n",
      "Epoch 107/110\n",
      "250/250 [==============================] - 0s 934us/step - loss: 0.3292 - accuracy: 0.8641\n",
      "Epoch 108/110\n",
      "250/250 [==============================] - 0s 932us/step - loss: 0.3290 - accuracy: 0.8633\n",
      "Epoch 109/110\n",
      "250/250 [==============================] - 0s 930us/step - loss: 0.3289 - accuracy: 0.8643\n",
      "Epoch 110/110\n",
      "250/250 [==============================] - 0s 930us/step - loss: 0.3287 - accuracy: 0.8641\n"
     ]
    },
    {
     "data": {
      "text/plain": [
       "<keras.src.callbacks.History at 0x1dc6a1063d0>"
      ]
     },
     "execution_count": 112,
     "metadata": {},
     "output_type": "execute_result"
    }
   ],
   "source": [
    "ann.fit(X_train, y_train, batch_size = 32, epochs = 110)"
   ]
  },
  {
   "cell_type": "markdown",
   "metadata": {
    "colab_type": "text",
    "id": "u7yx47jPZt11"
   },
   "source": [
    "### Predicting the Test set results"
   ]
  },
  {
   "cell_type": "code",
   "execution_count": 113,
   "metadata": {
    "colab": {
     "base_uri": "https://localhost:8080/",
     "height": 137
    },
    "colab_type": "code",
    "id": "nIyEeQdRZwgs",
    "outputId": "82330ba8-9bdc-4fd1-d3cf-b6d78ee7c2a3"
   },
   "outputs": [
    {
     "name": "stdout",
     "output_type": "stream",
     "text": [
      "63/63 [==============================] - 0s 816us/step\n",
      "[[0 0]\n",
      " [0 1]\n",
      " [0 0]\n",
      " ...\n",
      " [0 0]\n",
      " [0 0]\n",
      " [0 0]]\n"
     ]
    }
   ],
   "source": [
    "y_pred = ann.predict(X_test)\n",
    "y_pred = (y_pred > 0.5)\n",
    "print(np.concatenate((y_pred.reshape(len(y_pred),1), y_test.reshape(len(y_test),1)),1))"
   ]
  },
  {
   "cell_type": "markdown",
   "metadata": {
    "colab_type": "text",
    "id": "o0oyfLWoaEGw"
   },
   "source": [
    "### Making the Confusion Matrix"
   ]
  },
  {
   "cell_type": "code",
   "execution_count": 114,
   "metadata": {
    "colab": {
     "base_uri": "https://localhost:8080/",
     "height": 68
    },
    "colab_type": "code",
    "id": "ci6K_r6LaF6P",
    "outputId": "4d854e9e-22d5-432f-f6e5-a102fe3ae0bd"
   },
   "outputs": [
    {
     "name": "stdout",
     "output_type": "stream",
     "text": [
      "[[1524   71]\n",
      " [ 205  200]]\n"
     ]
    },
    {
     "data": {
      "text/plain": [
       "0.862"
      ]
     },
     "execution_count": 114,
     "metadata": {},
     "output_type": "execute_result"
    }
   ],
   "source": [
    "from sklearn.metrics import confusion_matrix, accuracy_score\n",
    "cm = confusion_matrix(y_test, y_pred)\n",
    "print(cm)\n",
    "accuracy_score(y_test, y_pred)"
   ]
  }
 ],
 "metadata": {
  "colab": {
   "collapsed_sections": [],
   "name": "artificial_neural_network.ipynb",
   "provenance": [],
   "toc_visible": true
  },
  "kernelspec": {
   "display_name": "Python 3 (ipykernel)",
   "language": "python",
   "name": "python3"
  },
  "language_info": {
   "codemirror_mode": {
    "name": "ipython",
    "version": 3
   },
   "file_extension": ".py",
   "mimetype": "text/x-python",
   "name": "python",
   "nbconvert_exporter": "python",
   "pygments_lexer": "ipython3",
   "version": "3.11.3"
  }
 },
 "nbformat": 4,
 "nbformat_minor": 1
}
